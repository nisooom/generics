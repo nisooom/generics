{
 "cells": [
  {
   "cell_type": "code",
   "execution_count": 1,
   "id": "fd76314a",
   "metadata": {},
   "outputs": [
    {
     "name": "stderr",
     "output_type": "stream",
     "text": [
      "[nltk_data] Downloading package punkt to nltk-tokenizers...\n",
      "[nltk_data]   Package punkt is already up-to-date!\n",
      "[nltk_data] Downloading package punkt_tab to nltk-tokenizers...\n",
      "[nltk_data]   Package punkt_tab is already up-to-date!\n",
      "/home/sid/python-envs/global/lib/python3.12/site-packages/torch/cuda/__init__.py:174: UserWarning: CUDA initialization: CUDA unknown error - this may be due to an incorrectly set up environment, e.g. changing env variable CUDA_VISIBLE_DEVICES after program start. Setting the available devices to be zero. (Triggered internally at /pytorch/c10/cuda/CUDAFunctions.cpp:109.)\n",
      "  return torch._C._cuda_getDeviceCount() > 0\n"
     ]
    }
   ],
   "source": [
    "import torch\n",
    "from torch import nn, optim\n",
    "from torch.nn.utils.rnn import pad_sequence\n",
    "from torch.utils.data import Dataset, DataLoader, random_split\n",
    "from sklearn.metrics import accuracy_score, f1_score, roc_auc_score\n",
    "import nltk\n",
    "nltk.download(\"punkt\", download_dir=\"nltk-tokenizers\")\n",
    "nltk.download(\"punkt_tab\", download_dir=\"nltk-tokenizers\")\n",
    "from nltk.tokenize import word_tokenize\n",
    "import numpy as np\n",
    "import json\n",
    "import re\n",
    "import csv\n",
    "from collections import Counter\n",
    "\n",
    "device = \"cuda\" if torch.cuda.is_available() else \"cpu\"\n",
    "MAX_FEATURES = 4096 # total number of known tokens"
   ]
  },
  {
   "cell_type": "code",
   "execution_count": 2,
   "id": "fda61cf6",
   "metadata": {},
   "outputs": [
    {
     "name": "stdout",
     "output_type": "stream",
     "text": [
      "len(labels) = 40526\n",
      "len(texts) = 40526\n"
     ]
    }
   ],
   "source": [
    "NON_ALPHANUM = re.compile(r\"[\\W]\")\n",
    "NON_ASCII = re.compile(r\"[^a-z0-9\\s]\")\n",
    "\n",
    "\n",
    "def normalize_text(text):\n",
    "    text = NON_ALPHANUM.sub(\" \", text.lower())\n",
    "    text = NON_ASCII.sub(\"\", text)\n",
    "    return text\n",
    "\n",
    "\n",
    "def load_data(filepath):\n",
    "    labels = []\n",
    "    texts = []\n",
    "\n",
    "    for i, line in enumerate(csv.reader(open(filepath))):\n",
    "        if i == 0:\n",
    "            continue\n",
    "        _, _, text, label = line\n",
    "        labels.append(int(label))\n",
    "        texts.append(normalize_text(text).strip())\n",
    "\n",
    "    return labels, texts\n",
    "\n",
    "\n",
    "labels, texts = load_data(\"fake-reviews-dataset/fake_reviews_dataset.csv\")\n",
    "print(f\"{len(labels) = }\")\n",
    "print(f\"{len(texts) = }\")"
   ]
  },
  {
   "cell_type": "code",
   "execution_count": 3,
   "id": "c542013a",
   "metadata": {},
   "outputs": [
    {
     "name": "stdout",
     "output_type": "stream",
     "text": [
      "len(train_ds) = 32421\n",
      "len(test_ds) = 8105\n"
     ]
    }
   ],
   "source": [
    "def tokenize_text(text):\n",
    "    return word_tokenize(text)\n",
    "\n",
    "\n",
    "vocab = json.load(open(\"vocab.json\"))\n",
    "def encode_text(text):\n",
    "    return [\n",
    "        vocab.get(tk, 1)\n",
    "        for tk in tokenize_text(text)\n",
    "    ]\n",
    "\n",
    "\n",
    "class CustomDataset(Dataset):\n",
    "\n",
    "    def __init__(self, texts, labels):\n",
    "        self.texts = [torch.tensor(encode_text(text)) for text in texts]\n",
    "        self.labels = torch.tensor(labels).float()\n",
    "    \n",
    "    def __len__(self):\n",
    "        return len(self.labels)\n",
    "\n",
    "    def __getitem__(self, index):\n",
    "        return self.texts[index], self.labels[index]\n",
    "\n",
    "\n",
    "def collate_fn(batch):\n",
    "    texts, labels = zip(*batch)\n",
    "    return pad_sequence(texts, batch_first=True), torch.tensor(labels).float()\n",
    "\n",
    "\n",
    "def make_ds():\n",
    "    full_ds = CustomDataset(texts, labels)\n",
    "    train_ds, test_ds = random_split(full_ds, [0.8, 0.2])\n",
    "    return train_ds, test_ds\n",
    "\n",
    "train_ds, test_ds = make_ds()\n",
    "train_dl = DataLoader(train_ds, batch_size=128, shuffle=True, collate_fn=collate_fn)\n",
    "test_dl = DataLoader(test_ds, batch_size=128, shuffle=False, collate_fn=collate_fn)\n",
    "print(f\"{len(train_ds) = }\")\n",
    "print(f\"{len(test_ds) = }\")"
   ]
  },
  {
   "cell_type": "code",
   "execution_count": 4,
   "id": "959612ea",
   "metadata": {},
   "outputs": [],
   "source": [
    "class ClassifierModel(nn.Module):\n",
    "\n",
    "    def __init__(self, vocab_size, emb=64):\n",
    "        super().__init__()\n",
    "        self.embed = nn.Embedding(vocab_size, emb)\n",
    "        self.conv1 = nn.Conv1d(emb, 64, kernel_size=3, padding=1)\n",
    "        self.pool1 = nn.MaxPool1d(2)\n",
    "        self.conv2 = nn.Conv1d(64, 64, kernel_size=3, padding=1)\n",
    "        self.pool2 = nn.MaxPool1d(2)\n",
    "        self.conv3 = nn.Conv1d(64, 64, kernel_size=3, padding=1)\n",
    "        self.globpool = nn.AdaptiveMaxPool1d(1)\n",
    "        self.fc1 = nn.Linear(64, 100)\n",
    "        self.fc2 = nn.Linear(100, 1)\n",
    "\n",
    "    def forward(self, x):\n",
    "        x = self.embed(x).transpose(1, 2)\n",
    "        x = self.pool1(torch.relu(self.conv1(x)))\n",
    "        x = self.pool2(torch.relu(self.conv2(x)))\n",
    "        x = torch.relu(self.conv3(x))\n",
    "        x = self.globpool(x).squeeze(2)\n",
    "        x = torch.relu(self.fc1(x))\n",
    "        return torch.sigmoid(self.fc2(x)).squeeze(1)"
   ]
  },
  {
   "cell_type": "code",
   "execution_count": 5,
   "id": "4337ac8b",
   "metadata": {},
   "outputs": [],
   "source": [
    "def train(model, epochs=3):\n",
    "    optimizer = optim.Adam(model.parameters())\n",
    "    crierion = nn.BCELoss()\n",
    "\n",
    "    for e in range(epochs):\n",
    "        model.train()\n",
    "        for xb, yb in train_dl:\n",
    "            xb, yb = xb.to(device), yb.to(device)\n",
    "            pred = model(xb)\n",
    "            loss = crierion(pred, yb)\n",
    "\n",
    "            optimizer.zero_grad()\n",
    "            loss.backward()\n",
    "            optimizer.step()\n",
    "\n",
    "        print(f\"Epoch {e+1} done\")\n",
    "        evaluate(model, test_dl)\n",
    "\n",
    "\n",
    "def evaluate(model, loader):\n",
    "    model.eval()\n",
    "    preds = []\n",
    "    ys = []\n",
    "    with torch.no_grad():\n",
    "        for xb, yb in loader:\n",
    "            xb = xb.to(device)\n",
    "            pred = model(xb).cpu().numpy()\n",
    "            preds.extend(pred)\n",
    "            ys.extend(yb.numpy())\n",
    "\n",
    "    preds, ys = np.array(preds), np.array(ys)\n",
    "    print(f\"Test Acc: {accuracy_score(ys, preds>0.5):.4f}, F1: {f1_score(ys, preds>0.5):.4f}, AUC: {roc_auc_score(ys, preds):.4f}\")"
   ]
  },
  {
   "cell_type": "code",
   "execution_count": 6,
   "id": "749bbfec",
   "metadata": {},
   "outputs": [
    {
     "name": "stdout",
     "output_type": "stream",
     "text": [
      "ClassifierModel(\n",
      "  (embed): Embedding(1024, 64)\n",
      "  (conv1): Conv1d(64, 64, kernel_size=(3,), stride=(1,), padding=(1,))\n",
      "  (pool1): MaxPool1d(kernel_size=2, stride=2, padding=0, dilation=1, ceil_mode=False)\n",
      "  (conv2): Conv1d(64, 64, kernel_size=(3,), stride=(1,), padding=(1,))\n",
      "  (pool2): MaxPool1d(kernel_size=2, stride=2, padding=0, dilation=1, ceil_mode=False)\n",
      "  (conv3): Conv1d(64, 64, kernel_size=(3,), stride=(1,), padding=(1,))\n",
      "  (globpool): AdaptiveMaxPool1d(output_size=1)\n",
      "  (fc1): Linear(in_features=64, out_features=100, bias=True)\n",
      "  (fc2): Linear(in_features=100, out_features=1, bias=True)\n",
      ")\n",
      "Epoch 1 done\n",
      "Test Acc: 0.9109, F1: 0.9124, AUC: 0.9736\n"
     ]
    }
   ],
   "source": [
    "classifier = ClassifierModel(len(vocab)).to(device)\n",
    "print(classifier)\n",
    "train(classifier, epochs=1)"
   ]
  },
  {
   "cell_type": "code",
   "execution_count": 7,
   "id": "b25ec8f7",
   "metadata": {},
   "outputs": [],
   "source": [
    "scripted_model = torch.jit.script(classifier)\n",
    "torch.jit.save(scripted_model, \"check-fake.pt\")"
   ]
  }
 ],
 "metadata": {
  "kernelspec": {
   "display_name": "global",
   "language": "python",
   "name": "python3"
  },
  "language_info": {
   "codemirror_mode": {
    "name": "ipython",
    "version": 3
   },
   "file_extension": ".py",
   "mimetype": "text/x-python",
   "name": "python",
   "nbconvert_exporter": "python",
   "pygments_lexer": "ipython3",
   "version": "3.12.3"
  }
 },
 "nbformat": 4,
 "nbformat_minor": 5
}
